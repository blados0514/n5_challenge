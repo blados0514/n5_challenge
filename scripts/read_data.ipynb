{
 "cells": [
  {
   "cell_type": "code",
   "execution_count": 138,
   "id": "1feed57a-8b0a-4faa-b8d9-bc79759830c4",
   "metadata": {},
   "outputs": [],
   "source": [
    "import os\n",
    "import pandas as pd\n",
    "from pandas import DataFrame as DF"
   ]
  },
  {
   "cell_type": "code",
   "execution_count": 187,
   "id": "7dc8c7c6-0f63-4bf0-95aa-04ab29de711d",
   "metadata": {},
   "outputs": [],
   "source": [
    "#build class for read data\n",
    "\n",
    "class proccess_challenge:\n",
    "    def __init__(self):\n",
    "        self.__path = f'{os.getcwd()}/data/'\n",
    "        self.sc = spark.sparkContext\n",
    "        self.format = '.parquet'\n",
    "    \n",
    "    def read_raw(self, name_file : str):\n",
    "        #read csv file as rdd\n",
    "        return self.sc.textFile(f'{self.__path}/raw/{name_file}')\n",
    "        \n",
    "    def read_dataset_pd(self, name_file : str) -> None:\n",
    "            df = pd.read_csv(f'{self.__parh}/raw/{file}')\n",
    "            self.save_parquet(file, 'df')\n",
    "    \n",
    "    def save_parquet(self, name_file : str, df : DF) -> None:\n",
    "        df_transform = self.transform_column(df)\n",
    "        df_transform.to_parquet(f'{self.__path}/results/{name_file}{self.format}')\n",
    "        \n",
    "    def transform_column(df : DF) -> DF:\n",
    "        # rename columns the DataFrame\n",
    "        for file in os.listdir(os.getcwd() + '/data/raw/'):\n",
    "            df = pd.read_csv(os.getcwd() + '/data/raw/' + file)\n",
    "            for col in df.columns:\n",
    "                col_new = col.translate(col.maketrans('/%\"_', f'____')).replace(' ', '')\n",
    "                df.rename(columns={col: col_new.upper()}, inplace=True)\n",
    "        return df\n",
    "    \n",
    "    def main(self):\n",
    "        for file in os.listdir(f'{self.__path}/raw/'):\n",
    "            pass"
   ]
  },
  {
   "cell_type": "code",
   "execution_count": 188,
   "id": "cdd94d32-ae47-47b3-b36b-a0ef220b6c82",
   "metadata": {},
   "outputs": [],
   "source": [
    "obj = proccess_challenge()\n"
   ]
  },
  {
   "cell_type": "code",
   "execution_count": 94,
   "id": "d9d1f962-cfb3-42a3-9d9e-19da0d146e3b",
   "metadata": {},
   "outputs": [],
   "source": [
    "path = '/Users/lahaus/Documents/github/n5_challenge/data/raw/country_wise_latest.csv'"
   ]
  },
  {
   "cell_type": "code",
   "execution_count": 191,
   "id": "4385b27c-f9ac-4a39-9e02-ae7de69aa0ba",
   "metadata": {},
   "outputs": [],
   "source": [
    "df_read = pd.read_parquet('/Users/lahaus/Documents/github/n5_challenge/data/results/worldometer_data.parquet')"
   ]
  }
 ],
 "metadata": {
  "kernelspec": {
   "display_name": "Python 3 (ipykernel)",
   "language": "python",
   "name": "python3"
  },
  "language_info": {
   "codemirror_mode": {
    "name": "ipython",
    "version": 3
   },
   "file_extension": ".py",
   "mimetype": "text/x-python",
   "name": "python",
   "nbconvert_exporter": "python",
   "pygments_lexer": "ipython3",
   "version": "3.7.13"
  }
 },
 "nbformat": 4,
 "nbformat_minor": 5
}
