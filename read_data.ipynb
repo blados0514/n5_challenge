{
 "cells": [
  {
   "cell_type": "code",
   "execution_count": 1,
   "id": "1feed57a-8b0a-4faa-b8d9-bc79759830c4",
   "metadata": {},
   "outputs": [],
   "source": [
    "import os\n",
    "import pandas as pd\n",
    "from pandas import DataFrame as DF"
   ]
  },
  {
   "cell_type": "code",
   "execution_count": 8,
   "id": "7dc8c7c6-0f63-4bf0-95aa-04ab29de711d",
   "metadata": {},
   "outputs": [],
   "source": [
    "#build class for read data\n",
    "\n",
    "class proccess_challenge:\n",
    "    def __init__(self):\n",
    "        self.__path = f'{os.getcwd()}/data/'\n",
    "        self.sc = spark.sparkContext\n",
    "        self.format = '.parquet'\n",
    "    \n",
    "    def read_raw(self, name_file : str):\n",
    "        #read csv file as rdd\n",
    "        return self.sc.textFile(f'{self.__path}/raw/{name_file}')\n",
    "        \n",
    "    def read_dataset_pd(self, name_file : str) -> None:\n",
    "            df = pd.read_csv(f'{self.__path}/raw/{name_file}')\n",
    "            self.save_parquet(name_file, df)\n",
    "    \n",
    "    def save_parquet(self, name_file : str, df : DF) -> None:\n",
    "        df_transform = self.transform_column(df)\n",
    "        df_transform.to_parquet(f'{self.__path}/results/{name_file}{self.format}')\n",
    "        \n",
    "    def transform_column(self, df : DF) -> DF:\n",
    "        # rename columns the DataFrame\n",
    "        for file in os.listdir(os.getcwd() + '/data/raw/'):\n",
    "            df = pd.read_csv(os.getcwd() + '/data/raw/' + file)\n",
    "            for col in df.columns:\n",
    "                col_new = col.translate(col.maketrans('/%\"_', f'____')).replace(' ', '')\n",
    "                df.rename(columns={col: col_new.upper()}, inplace=True)\n",
    "        return df\n",
    "    \n",
    "    def main(self):\n",
    "        for file in os.listdir(f'{self.__path}/raw/'):\n",
    "            self.read_dataset_pd(file)\n",
    "            print('file process  {}'.format(file))"
   ]
  },
  {
   "cell_type": "code",
   "execution_count": 9,
   "id": "cdd94d32-ae47-47b3-b36b-a0ef220b6c82",
   "metadata": {},
   "outputs": [
    {
     "name": "stdout",
     "output_type": "stream",
     "text": [
      "file process  worldometer_data.csv\n",
      "file process  full_grouped.csv\n",
      "file process  day_wise.csv\n",
      "file process  covid_19_clean_complete.csv\n",
      "file process  country_wise_latest.csv\n",
      "file process  usa_county_wise.csv\n"
     ]
    }
   ],
   "source": [
    "obj = proccess_challenge()\n",
    "obj.main()"
   ]
  }
 ],
 "metadata": {
  "kernelspec": {
   "display_name": "Python 3 (ipykernel)",
   "language": "python",
   "name": "python3"
  },
  "language_info": {
   "codemirror_mode": {
    "name": "ipython",
    "version": 3
   },
   "file_extension": ".py",
   "mimetype": "text/x-python",
   "name": "python",
   "nbconvert_exporter": "python",
   "pygments_lexer": "ipython3",
   "version": "3.7.13"
  }
 },
 "nbformat": 4,
 "nbformat_minor": 5
}
