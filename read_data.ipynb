{
 "cells": [
  {
   "cell_type": "code",
   "execution_count": 3,
   "id": "1feed57a-8b0a-4faa-b8d9-bc79759830c4",
   "metadata": {},
   "outputs": [],
   "source": [
    "import os\n",
    "import pandas as pd\n",
    "from pandas import DataFrame as DF"
   ]
  },
  {
   "cell_type": "code",
   "execution_count": 4,
   "id": "7dc8c7c6-0f63-4bf0-95aa-04ab29de711d",
   "metadata": {},
   "outputs": [],
   "source": [
    "#build class for read data\n",
    "\n",
    "class proccess_challenge:\n",
    "    def __init__(self):\n",
    "        self.__path = f'{os.getcwd()}/data/'\n",
    "        self.sc = spark.sparkContext\n",
    "        self.format = '.parquet'\n",
    "    \n",
    "    def read_raw(self, name_file : str):\n",
    "        #read csv file as rdd\n",
    "        return self.sc.textFile(f'{self.__path}/raw/{name_file}')\n",
    "        \n",
    "    def read_dataset_pd(self, name_file : str) -> None:\n",
    "            df = pd.read_csv(f'{self.__path}/raw/{file}')\n",
    "            self.save_parquet(file, 'df')\n",
    "    \n",
    "    def save_parquet(self, name_file : str, df : DF) -> None:\n",
    "        df_transform = self.transform_column(df)\n",
    "        df_transform.to_parquet(f'{self.__path}/results/{name_file}{self.format}')\n",
    "        \n",
    "    def transform_column(self, df : DF) -> DF:\n",
    "        # rename columns the DataFrame\n",
    "        for file in os.listdir(os.getcwd() + '/data/raw/'):\n",
    "            df = pd.read_csv(os.getcwd() + '/data/raw/' + file)\n",
    "            for col in df.columns:\n",
    "                col_new = col.translate(col.maketrans('/%\"_', f'____')).replace(' ', '')\n",
    "                df.rename(columns={col: col_new.upper()}, inplace=True)\n",
    "        return df\n",
    "    \n",
    "    def main(self):\n",
    "        for file in os.listdir(f'{self.__path}/raw/'):\n",
    "            self.read_dataset_pd(file)\n",
    "            print('file process  {}'.format(file))"
   ]
  },
  {
   "cell_type": "code",
   "execution_count": 5,
   "id": "cdd94d32-ae47-47b3-b36b-a0ef220b6c82",
   "metadata": {},
   "outputs": [
    {
     "ename": "FileNotFoundError",
     "evalue": "[Errno 2] No such file or directory: '/Users/lahaus/Documents/github/n5_challenge/scripts/data//raw/'",
     "output_type": "error",
     "traceback": [
      "\u001b[0;31m---------------------------------------------------------------------------\u001b[0m",
      "\u001b[0;31mFileNotFoundError\u001b[0m                         Traceback (most recent call last)",
      "\u001b[0;32m/var/folders/zm/209k06d93jg_d1mwf01xtr7r0000gn/T/ipykernel_56681/81078103.py\u001b[0m in \u001b[0;36m<module>\u001b[0;34m\u001b[0m\n\u001b[1;32m      1\u001b[0m \u001b[0mobj\u001b[0m \u001b[0;34m=\u001b[0m \u001b[0mproccess_challenge\u001b[0m\u001b[0;34m(\u001b[0m\u001b[0;34m)\u001b[0m\u001b[0;34m\u001b[0m\u001b[0;34m\u001b[0m\u001b[0m\n\u001b[0;32m----> 2\u001b[0;31m \u001b[0mobj\u001b[0m\u001b[0;34m.\u001b[0m\u001b[0mmain\u001b[0m\u001b[0;34m(\u001b[0m\u001b[0;34m)\u001b[0m\u001b[0;34m\u001b[0m\u001b[0;34m\u001b[0m\u001b[0m\n\u001b[0m",
      "\u001b[0;32m/var/folders/zm/209k06d93jg_d1mwf01xtr7r0000gn/T/ipykernel_56681/2363703145.py\u001b[0m in \u001b[0;36mmain\u001b[0;34m(self)\u001b[0m\n\u001b[1;32m     29\u001b[0m \u001b[0;34m\u001b[0m\u001b[0m\n\u001b[1;32m     30\u001b[0m     \u001b[0;32mdef\u001b[0m \u001b[0mmain\u001b[0m\u001b[0;34m(\u001b[0m\u001b[0mself\u001b[0m\u001b[0;34m)\u001b[0m\u001b[0;34m:\u001b[0m\u001b[0;34m\u001b[0m\u001b[0;34m\u001b[0m\u001b[0m\n\u001b[0;32m---> 31\u001b[0;31m         \u001b[0;32mfor\u001b[0m \u001b[0mfile\u001b[0m \u001b[0;32min\u001b[0m \u001b[0mos\u001b[0m\u001b[0;34m.\u001b[0m\u001b[0mlistdir\u001b[0m\u001b[0;34m(\u001b[0m\u001b[0;34mf'{self.__path}/raw/'\u001b[0m\u001b[0;34m)\u001b[0m\u001b[0;34m:\u001b[0m\u001b[0;34m\u001b[0m\u001b[0;34m\u001b[0m\u001b[0m\n\u001b[0m\u001b[1;32m     32\u001b[0m             \u001b[0mself\u001b[0m\u001b[0;34m.\u001b[0m\u001b[0mread_dataset_pd\u001b[0m\u001b[0;34m(\u001b[0m\u001b[0mfile\u001b[0m\u001b[0;34m)\u001b[0m\u001b[0;34m\u001b[0m\u001b[0;34m\u001b[0m\u001b[0m\n\u001b[1;32m     33\u001b[0m             \u001b[0mprint\u001b[0m\u001b[0;34m(\u001b[0m\u001b[0;34m'file process  {}'\u001b[0m\u001b[0;34m.\u001b[0m\u001b[0mformat\u001b[0m\u001b[0;34m(\u001b[0m\u001b[0mfile\u001b[0m\u001b[0;34m)\u001b[0m\u001b[0;34m)\u001b[0m\u001b[0;34m\u001b[0m\u001b[0;34m\u001b[0m\u001b[0m\n",
      "\u001b[0;31mFileNotFoundError\u001b[0m: [Errno 2] No such file or directory: '/Users/lahaus/Documents/github/n5_challenge/scripts/data//raw/'"
     ]
    }
   ],
   "source": [
    "obj = proccess_challenge()\n",
    "obj.main()"
   ]
  },
  {
   "cell_type": "code",
   "execution_count": 8,
   "id": "7d2d124c-a1fd-416f-bda8-ac1fcc148fbd",
   "metadata": {},
   "outputs": [
    {
     "data": {
      "text/plain": [
       "'/Users/lahaus/Documents/github/n5_challenge/scripts'"
      ]
     },
     "execution_count": 8,
     "metadata": {},
     "output_type": "execute_result"
    }
   ],
   "source": [
    "f'{os.getcwd()}'"
   ]
  }
 ],
 "metadata": {
  "kernelspec": {
   "display_name": "Python 3 (ipykernel)",
   "language": "python",
   "name": "python3"
  },
  "language_info": {
   "codemirror_mode": {
    "name": "ipython",
    "version": 3
   },
   "file_extension": ".py",
   "mimetype": "text/x-python",
   "name": "python",
   "nbconvert_exporter": "python",
   "pygments_lexer": "ipython3",
   "version": "3.7.13"
  }
 },
 "nbformat": 4,
 "nbformat_minor": 5
}
